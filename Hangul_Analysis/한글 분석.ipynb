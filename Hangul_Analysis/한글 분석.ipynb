{
 "cells": [
  {
   "cell_type": "markdown",
   "metadata": {},
   "source": [
    "## https://konlpy-ko.readthedocs.io/ko/v0.5.1/#start 참고"
   ]
  },
  {
   "cell_type": "code",
   "execution_count": null,
   "metadata": {},
   "outputs": [],
   "source": [
    "pip install konlpy"
   ]
  },
  {
   "cell_type": "code",
   "execution_count": 1,
   "metadata": {},
   "outputs": [],
   "source": [
    "from konlpy.tag import Okt #윈도우 사용가능 태깅 중 제일 빠름\n",
    "from konlpy.utils import pprint"
   ]
  },
  {
   "cell_type": "code",
   "execution_count": 2,
   "metadata": {},
   "outputs": [],
   "source": [
    "okt = Okt()"
   ]
  },
  {
   "cell_type": "code",
   "execution_count": 3,
   "metadata": {},
   "outputs": [
    {
     "name": "stdout",
     "output_type": "stream",
     "text": [
      "['장대', '한', '생물', '진화', '사를', '치킨', '으로', '정리', '해', '버리는', '씹좆간쉨', 'ㅋㅋㅋㅋ']\n"
     ]
    }
   ],
   "source": [
    "pprint(okt.morphs(u'장대한 생물 진화사를 치킨으로 정리해버리는 씹좆간쉨ㅋㅋㅋㅋ'))"
   ]
  },
  {
   "cell_type": "code",
   "execution_count": 4,
   "metadata": {},
   "outputs": [
    {
     "name": "stdout",
     "output_type": "stream",
     "text": [
      "['장대', '생물', '진화', '치킨', '정리', '씹좆간쉨']\n"
     ]
    }
   ],
   "source": [
    "pprint(okt.nouns(u'장대한 생물 진화사를 치킨으로 정리해버리는 씹좆간쉨ㅋㅋㅋㅋ'))"
   ]
  },
  {
   "cell_type": "code",
   "execution_count": 5,
   "metadata": {},
   "outputs": [
    {
     "name": "stdout",
     "output_type": "stream",
     "text": [
      "['장대', '생물', '생물 진화', '생물 진화사를 치킨', '정리', '씹좆간쉨', '진화', '치킨']\n"
     ]
    }
   ],
   "source": [
    "pprint(okt.phrases(u'장대한 생물 진화사를 치킨으로 정리해버리는 씹좆간쉨ㅋㅋㅋㅋ'))"
   ]
  },
  {
   "cell_type": "code",
   "execution_count": 6,
   "metadata": {},
   "outputs": [
    {
     "name": "stdout",
     "output_type": "stream",
     "text": [
      "[('장대', 'Noun'),\n",
      " ('한', 'Josa'),\n",
      " ('생물', 'Noun'),\n",
      " ('진화', 'Noun'),\n",
      " ('사를', 'Verb'),\n",
      " ('치킨', 'Noun'),\n",
      " ('으로', 'Josa'),\n",
      " ('정리', 'Noun'),\n",
      " ('해', 'Verb'),\n",
      " ('버리는', 'Verb'),\n",
      " ('씹좆간쉨', 'Noun'),\n",
      " ('ㅋㅋㅋㅋ', 'KoreanParticle')]\n"
     ]
    }
   ],
   "source": [
    "pprint(okt.pos(u'장대한 생물 진화사를 치킨으로 정리해버리는 씹좆간쉨ㅋㅋㅋㅋ'))"
   ]
  },
  {
   "cell_type": "code",
   "execution_count": 7,
   "metadata": {},
   "outputs": [
    {
     "name": "stdout",
     "output_type": "stream",
     "text": [
      "[('장대', 'Noun'),\n",
      " ('한', 'Josa'),\n",
      " ('생물', 'Noun'),\n",
      " ('진화', 'Noun'),\n",
      " ('사를', 'Verb'),\n",
      " ('치킨', 'Noun'),\n",
      " ('으로', 'Josa'),\n",
      " ('정리', 'Noun'),\n",
      " ('해', 'Verb'),\n",
      " ('버리는', 'Verb'),\n",
      " ('씹좆간쉐', 'Noun'),\n",
      " ('ㅋㅋㅋ', 'KoreanParticle')]\n"
     ]
    }
   ],
   "source": [
    "pprint(okt.pos(u'장대한 생물 진화사를 치킨으로 정리해버리는 씹좆간쉨ㅋㅋㅋㅋ',norm = True))"
   ]
  },
  {
   "cell_type": "code",
   "execution_count": 8,
   "metadata": {},
   "outputs": [
    {
     "name": "stdout",
     "output_type": "stream",
     "text": [
      "[('장대', 'Noun'),\n",
      " ('한', 'Josa'),\n",
      " ('생물', 'Noun'),\n",
      " ('진화', 'Noun'),\n",
      " ('사르다', 'Verb'),\n",
      " ('치킨', 'Noun'),\n",
      " ('으로', 'Josa'),\n",
      " ('정리', 'Noun'),\n",
      " ('하다', 'Verb'),\n",
      " ('버리다', 'Verb'),\n",
      " ('씹좆간쉨', 'Noun'),\n",
      " ('ㅋㅋㅋㅋ', 'KoreanParticle')]\n"
     ]
    }
   ],
   "source": [
    "pprint(okt.pos(u'장대한 생물 진화사를 치킨으로 정리해버리는 씹좆간쉨ㅋㅋㅋㅋ',stem = True))"
   ]
  },
  {
   "cell_type": "code",
   "execution_count": 9,
   "metadata": {},
   "outputs": [
    {
     "name": "stdout",
     "output_type": "stream",
     "text": [
      "[('장대', 'Noun'),\n",
      " ('한', 'Josa'),\n",
      " ('생물', 'Noun'),\n",
      " ('진화', 'Noun'),\n",
      " ('사르다', 'Verb'),\n",
      " ('치킨', 'Noun'),\n",
      " ('으로', 'Josa'),\n",
      " ('정리', 'Noun'),\n",
      " ('하다', 'Verb'),\n",
      " ('버리다', 'Verb'),\n",
      " ('씹좆간쉐', 'Noun'),\n",
      " ('ㅋㅋㅋ', 'KoreanParticle')]\n"
     ]
    }
   ],
   "source": [
    "pprint(okt.pos(u'장대한 생물 진화사를 치킨으로 정리해버리는 씹좆간쉨ㅋㅋㅋㅋ',norm = True, stem = True))"
   ]
  },
  {
   "cell_type": "code",
   "execution_count": 10,
   "metadata": {},
   "outputs": [
    {
     "name": "stdout",
     "output_type": "stream",
     "text": [
      "['장대/Noun',\n",
      " '한/Josa',\n",
      " '생물/Noun',\n",
      " '진화/Noun',\n",
      " '사르다/Verb',\n",
      " '치킨/Noun',\n",
      " '으로/Josa',\n",
      " '정리/Noun',\n",
      " '하다/Verb',\n",
      " '버리다/Verb',\n",
      " '씹좆간쉐/Noun',\n",
      " 'ㅋㅋㅋ/KoreanParticle']\n"
     ]
    }
   ],
   "source": [
    "pprint(okt.pos(u'장대한 생물 진화사를 치킨으로 정리해버리는 씹좆간쉨ㅋㅋㅋㅋ',norm = True, stem = True, join = True))"
   ]
  },
  {
   "cell_type": "code",
   "execution_count": 11,
   "metadata": {},
   "outputs": [],
   "source": [
    "from konlpy.tag import Kkma # 좀 느리지만 정확한 분석"
   ]
  },
  {
   "cell_type": "code",
   "execution_count": 12,
   "metadata": {},
   "outputs": [],
   "source": [
    "kkma = Kkma()"
   ]
  },
  {
   "cell_type": "code",
   "execution_count": 13,
   "metadata": {},
   "outputs": [
    {
     "name": "stdout",
     "output_type": "stream",
     "text": [
      "['장대',\n",
      " '하',\n",
      " 'ㄴ',\n",
      " '생물',\n",
      " '진화',\n",
      " '사르',\n",
      " 'ㄹ',\n",
      " '치킨',\n",
      " '으로',\n",
      " '정리',\n",
      " '하',\n",
      " '어',\n",
      " '버리',\n",
      " '는',\n",
      " '씹좆',\n",
      " '간',\n",
      " '쉨',\n",
      " 'ㅋㅋㅋㅋ']\n"
     ]
    }
   ],
   "source": [
    "pprint(kkma.morphs(u'장대한 생물 진화사를 치킨으로 정리해버리는 씹좆간쉨ㅋㅋㅋㅋ'))"
   ]
  },
  {
   "cell_type": "code",
   "execution_count": 14,
   "metadata": {},
   "outputs": [
    {
     "name": "stdout",
     "output_type": "stream",
     "text": [
      "['장대', '생물', '진화', '치킨', '정리', '씹좆', '씹좆간쉨', '간', '쉨']\n"
     ]
    }
   ],
   "source": [
    "pprint(kkma.nouns(u'장대한 생물 진화사를 치킨으로 정리해버리는 씹좆간쉨ㅋㅋㅋㅋ'))"
   ]
  },
  {
   "cell_type": "code",
   "execution_count": 15,
   "metadata": {},
   "outputs": [
    {
     "name": "stdout",
     "output_type": "stream",
     "text": [
      "[('장대', 'NNG'),\n",
      " ('하', 'XSV'),\n",
      " ('ㄴ', 'ETD'),\n",
      " ('생물', 'NNG'),\n",
      " ('진화', 'NNG'),\n",
      " ('사르', 'VV'),\n",
      " ('ㄹ', 'ETD'),\n",
      " ('치킨', 'NNG'),\n",
      " ('으로', 'JKM'),\n",
      " ('정리', 'NNG'),\n",
      " ('하', 'XSV'),\n",
      " ('어', 'ECS'),\n",
      " ('버리', 'VXV'),\n",
      " ('는', 'ETD'),\n",
      " ('씹좆', 'UN'),\n",
      " ('간', 'NNB'),\n",
      " ('쉨', 'UN'),\n",
      " ('ㅋㅋㅋㅋ', 'EMO')]\n"
     ]
    }
   ],
   "source": [
    "pprint(kkma.pos(u'장대한 생물 진화사를 치킨으로 정리해버리는 씹좆간쉨ㅋㅋㅋㅋ'))"
   ]
  },
  {
   "cell_type": "code",
   "execution_count": null,
   "metadata": {},
   "outputs": [],
   "source": [
    "pip install hgtk"
   ]
  },
  {
   "cell_type": "markdown",
   "metadata": {},
   "source": [
    "### https://github.com/bluedisk/hangul-toolkit 참고"
   ]
  },
  {
   "cell_type": "code",
   "execution_count": 16,
   "metadata": {},
   "outputs": [],
   "source": [
    "import hgtk\n",
    "import numpy as np"
   ]
  },
  {
   "cell_type": "markdown",
   "metadata": {},
   "source": [
    "###### 초성, 중성, 종성 리스트를 자모 리스트로 합본"
   ]
  },
  {
   "cell_type": "code",
   "execution_count": 17,
   "metadata": {
    "scrolled": true
   },
   "outputs": [
    {
     "data": {
      "text/plain": [
       "9"
      ]
     },
     "execution_count": 17,
     "metadata": {},
     "output_type": "execute_result"
    }
   ],
   "source": [
    "jong_list = hgtk.const.JONG[1:]\n",
    "jamo = (hgtk.const.CHO,hgtk.const.JOONG,tuple(jong_list))\n",
    "jamo[0].index(\"ㅅ\")"
   ]
  },
  {
   "cell_type": "code",
   "execution_count": 19,
   "metadata": {},
   "outputs": [
    {
     "name": "stdout",
     "output_type": "stream",
     "text": [
      "raw_list : ['ㅈ', '간이', '미안']\n",
      "['ㅈᴥ', 'ㄱㅏㄴᴥㅇㅣᴥ', 'ㅁㅣᴥㅇㅏㄴᴥ']\n",
      "글자 수 : 5\n"
     ]
    }
   ],
   "source": [
    "# 연습용 임시 문장\n",
    "#tmp = kkma.pos(u'장대한 생물 진화사를 치킨으로 정리해버리는 씹ㅈ간쉨ㅋㅋㅋㅋ')\n",
    "tmp = kkma.pos(u'ㅈ간이 미안해ㅠㅠ')\n",
    "analy_sentence = []\n",
    "for i in tmp:\n",
    "    if i[1] == 'NNG' or i[1] == 'UN':\n",
    "        analy_sentence.append(i[0])\n",
    "print(\"raw_list :\",analy_sentence)\n",
    "processed_sentence = []\n",
    "for word in analy_sentence:\n",
    "    processed_sentence.append(hgtk.text.decompose(word))\n",
    "pprint(processed_sentence)\n",
    "decom_sentence = \"\".join(processed_sentence)\n",
    "print(\"글자 수 :\",decom_sentence.count('ᴥ'))"
   ]
  },
  {
   "cell_type": "markdown",
   "metadata": {},
   "source": [
    "## 1번 방법 np.shape(글자수, 3(초성,중성,종성), 총 28자리)"
   ]
  },
  {
   "cell_type": "code",
   "execution_count": 20,
   "metadata": {},
   "outputs": [
    {
     "name": "stdout",
     "output_type": "stream",
     "text": [
      "ㅈᴥㄱㅏㄴᴥㅇㅣᴥㅁㅣᴥㅇㅏㄴᴥ\n"
     ]
    },
    {
     "data": {
      "text/plain": [
       "array([[[0., 0., 0., 0., 0., 0., 0., 0., 0., 0., 0., 0., 1., 0., 0., 0.,\n",
       "         0., 0., 0., 0., 0., 0., 0., 0., 0., 0., 0., 0.],\n",
       "        [0., 0., 0., 0., 0., 0., 0., 0., 0., 0., 0., 0., 0., 0., 0., 0.,\n",
       "         0., 0., 0., 0., 0., 0., 0., 0., 0., 0., 0., 0.],\n",
       "        [0., 0., 0., 0., 0., 0., 0., 0., 0., 0., 0., 0., 0., 0., 0., 0.,\n",
       "         0., 0., 0., 0., 0., 0., 0., 0., 0., 0., 0., 0.]],\n",
       "\n",
       "       [[1., 0., 0., 0., 0., 0., 0., 0., 0., 0., 0., 0., 0., 0., 0., 0.,\n",
       "         0., 0., 0., 0., 0., 0., 0., 0., 0., 0., 0., 0.],\n",
       "        [1., 0., 0., 0., 0., 0., 0., 0., 0., 0., 0., 0., 0., 0., 0., 0.,\n",
       "         0., 0., 0., 0., 0., 0., 0., 0., 0., 0., 0., 0.],\n",
       "        [0., 0., 0., 1., 0., 0., 0., 0., 0., 0., 0., 0., 0., 0., 0., 0.,\n",
       "         0., 0., 0., 0., 0., 0., 0., 0., 0., 0., 0., 0.]],\n",
       "\n",
       "       [[0., 0., 0., 0., 0., 0., 0., 0., 0., 0., 0., 1., 0., 0., 0., 0.,\n",
       "         0., 0., 0., 0., 0., 0., 0., 0., 0., 0., 0., 0.],\n",
       "        [0., 0., 0., 0., 0., 0., 0., 0., 0., 0., 0., 0., 0., 0., 0., 0.,\n",
       "         0., 0., 0., 0., 1., 0., 0., 0., 0., 0., 0., 0.],\n",
       "        [0., 0., 0., 0., 0., 0., 0., 0., 0., 0., 0., 0., 0., 0., 0., 0.,\n",
       "         0., 0., 0., 0., 0., 0., 0., 0., 0., 0., 0., 0.]],\n",
       "\n",
       "       [[0., 0., 0., 0., 0., 0., 1., 0., 0., 0., 0., 0., 0., 0., 0., 0.,\n",
       "         0., 0., 0., 0., 0., 0., 0., 0., 0., 0., 0., 0.],\n",
       "        [0., 0., 0., 0., 0., 0., 0., 0., 0., 0., 0., 0., 0., 0., 0., 0.,\n",
       "         0., 0., 0., 0., 1., 0., 0., 0., 0., 0., 0., 0.],\n",
       "        [0., 0., 0., 0., 0., 0., 0., 0., 0., 0., 0., 0., 0., 0., 0., 0.,\n",
       "         0., 0., 0., 0., 0., 0., 0., 0., 0., 0., 0., 0.]],\n",
       "\n",
       "       [[0., 0., 0., 0., 0., 0., 0., 0., 0., 0., 0., 1., 0., 0., 0., 0.,\n",
       "         0., 0., 0., 0., 0., 0., 0., 0., 0., 0., 0., 0.],\n",
       "        [1., 0., 0., 0., 0., 0., 0., 0., 0., 0., 0., 0., 0., 0., 0., 0.,\n",
       "         0., 0., 0., 0., 0., 0., 0., 0., 0., 0., 0., 0.],\n",
       "        [0., 0., 0., 1., 0., 0., 0., 0., 0., 0., 0., 0., 0., 0., 0., 0.,\n",
       "         0., 0., 0., 0., 0., 0., 0., 0., 0., 0., 0., 0.]]])"
      ]
     },
     "execution_count": 20,
     "metadata": {},
     "output_type": "execute_result"
    }
   ],
   "source": [
    "final_data = np.zeros((decom_sentence.count('ᴥ'),3,28))\n",
    "count, i = 0, 0\n",
    "print(decom_sentence)\n",
    "for c in decom_sentence:\n",
    "    if c == 'ᴥ':\n",
    "        count += 1\n",
    "        i = 0\n",
    "        continue\n",
    "    final_data[count,i,jamo[i].index(c)] = 1\n",
    "    i += 1\n",
    "final_data"
   ]
  },
  {
   "cell_type": "markdown",
   "metadata": {},
   "source": [
    "## 2번 방법 np.shape(글자수,각 자모 인덱스 3개(초성, 중성, 종성))"
   ]
  },
  {
   "cell_type": "code",
   "execution_count": 21,
   "metadata": {},
   "outputs": [
    {
     "name": "stdout",
     "output_type": "stream",
     "text": [
      "ㅈᴥㄱㅏㄴᴥㅇㅣᴥㅁㅣᴥㅇㅏㄴᴥ\n",
      "p 0 0\n",
      "n 1 0\n",
      "===========\n",
      "p 1 0\n",
      "p 1 1\n",
      "p 1 2\n",
      "n 2 0\n",
      "===========\n",
      "p 2 0\n",
      "p 2 1\n",
      "n 3 0\n",
      "===========\n",
      "p 3 0\n",
      "p 3 1\n",
      "n 4 0\n",
      "===========\n",
      "p 4 0\n",
      "p 4 1\n",
      "p 4 2\n",
      "n 5 0\n",
      "===========\n"
     ]
    },
    {
     "data": {
      "text/plain": [
       "array([[13.,  0.,  0.],\n",
       "       [ 1.,  1.,  4.],\n",
       "       [12., 21.,  0.],\n",
       "       [ 7., 21.,  0.],\n",
       "       [12.,  1.,  4.]])"
      ]
     },
     "execution_count": 21,
     "metadata": {},
     "output_type": "execute_result"
    }
   ],
   "source": [
    "final_data = np.zeros((decom_sentence.count('ᴥ'),3))\n",
    "count, i = 0, 0\n",
    "print(decom_sentence)\n",
    "for c in decom_sentence:\n",
    "    if c == 'ᴥ':\n",
    "        count += 1\n",
    "        i = 0\n",
    "        continue\n",
    "    final_data[count,i] = jamo[i].index(c)+1 #공백과 첫번째 인덱스를 구분하기 위해서\n",
    "    i += 1\n",
    "final_data"
   ]
  },
  {
   "cell_type": "code",
   "execution_count": null,
   "metadata": {},
   "outputs": [],
   "source": [
    "\n"
   ]
  }
 ],
 "metadata": {
  "kernelspec": {
   "display_name": "Python 3",
   "language": "python",
   "name": "python3"
  },
  "language_info": {
   "codemirror_mode": {
    "name": "ipython",
    "version": 3
   },
   "file_extension": ".py",
   "mimetype": "text/x-python",
   "name": "python",
   "nbconvert_exporter": "python",
   "pygments_lexer": "ipython3",
   "version": "3.7.3"
  }
 },
 "nbformat": 4,
 "nbformat_minor": 2
}
