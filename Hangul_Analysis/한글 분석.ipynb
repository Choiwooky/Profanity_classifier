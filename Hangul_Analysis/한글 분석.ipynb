{
 "cells": [
  {
   "cell_type": "markdown",
   "metadata": {},
   "source": [
    "## https://konlpy-ko.readthedocs.io/ko/v0.5.1/#start 참고"
   ]
  },
  {
   "cell_type": "code",
   "execution_count": null,
   "metadata": {},
   "outputs": [],
   "source": [
    "pip install konlpy"
   ]
  },
  {
   "cell_type": "code",
   "execution_count": 1,
   "metadata": {},
   "outputs": [],
   "source": [
    "from konlpy.tag import Okt #윈도우 사용가능 태깅 중 제일 빠름\n",
    "from konlpy.utils import pprint"
   ]
  },
  {
   "cell_type": "code",
   "execution_count": 2,
   "metadata": {},
   "outputs": [],
   "source": [
    "okt = Okt()"
   ]
  },
  {
   "cell_type": "code",
   "execution_count": 3,
   "metadata": {},
   "outputs": [
    {
     "name": "stdout",
     "output_type": "stream",
     "text": [
      "['장대', '한', '생물', '진화', '사를', '치킨', '으로', '정리', '해', '버리는', '씹좆간쉨', 'ㅋㅋㅋㅋ']\n"
     ]
    }
   ],
   "source": [
    "pprint(okt.morphs(u'장대한 생물 진화사를 치킨으로 정리해버리는 씹좆간쉨ㅋㅋㅋㅋ'))"
   ]
  },
  {
   "cell_type": "code",
   "execution_count": 4,
   "metadata": {},
   "outputs": [
    {
     "name": "stdout",
     "output_type": "stream",
     "text": [
      "['장대', '생물', '진화', '치킨', '정리', '씹좆간쉨']\n"
     ]
    }
   ],
   "source": [
    "pprint(okt.nouns(u'장대한 생물 진화사를 치킨으로 정리해버리는 씹좆간쉨ㅋㅋㅋㅋ'))"
   ]
  },
  {
   "cell_type": "code",
   "execution_count": 5,
   "metadata": {},
   "outputs": [
    {
     "name": "stdout",
     "output_type": "stream",
     "text": [
      "['장대', '생물', '생물 진화', '생물 진화사를 치킨', '정리', '씹좆간쉨', '진화', '치킨']\n"
     ]
    }
   ],
   "source": [
    "pprint(okt.phrases(u'장대한 생물 진화사를 치킨으로 정리해버리는 씹좆간쉨ㅋㅋㅋㅋ'))"
   ]
  },
  {
   "cell_type": "code",
   "execution_count": 6,
   "metadata": {},
   "outputs": [
    {
     "name": "stdout",
     "output_type": "stream",
     "text": [
      "[('장대', 'Noun'),\n",
      " ('한', 'Josa'),\n",
      " ('생물', 'Noun'),\n",
      " ('진화', 'Noun'),\n",
      " ('사를', 'Verb'),\n",
      " ('치킨', 'Noun'),\n",
      " ('으로', 'Josa'),\n",
      " ('정리', 'Noun'),\n",
      " ('해', 'Verb'),\n",
      " ('버리는', 'Verb'),\n",
      " ('씹좆간쉨', 'Noun'),\n",
      " ('ㅋㅋㅋㅋ', 'KoreanParticle')]\n"
     ]
    }
   ],
   "source": [
    "pprint(okt.pos(u'장대한 생물 진화사를 치킨으로 정리해버리는 씹좆간쉨ㅋㅋㅋㅋ'))"
   ]
  },
  {
   "cell_type": "code",
   "execution_count": 7,
   "metadata": {},
   "outputs": [
    {
     "name": "stdout",
     "output_type": "stream",
     "text": [
      "[('장대', 'Noun'),\n",
      " ('한', 'Josa'),\n",
      " ('생물', 'Noun'),\n",
      " ('진화', 'Noun'),\n",
      " ('사를', 'Verb'),\n",
      " ('치킨', 'Noun'),\n",
      " ('으로', 'Josa'),\n",
      " ('정리', 'Noun'),\n",
      " ('해', 'Verb'),\n",
      " ('버리는', 'Verb'),\n",
      " ('씹좆간쉐', 'Noun'),\n",
      " ('ㅋㅋㅋ', 'KoreanParticle')]\n"
     ]
    }
   ],
   "source": [
    "pprint(okt.pos(u'장대한 생물 진화사를 치킨으로 정리해버리는 씹좆간쉨ㅋㅋㅋㅋ',norm = True))"
   ]
  },
  {
   "cell_type": "code",
   "execution_count": 8,
   "metadata": {},
   "outputs": [
    {
     "name": "stdout",
     "output_type": "stream",
     "text": [
      "[('장대', 'Noun'),\n",
      " ('한', 'Josa'),\n",
      " ('생물', 'Noun'),\n",
      " ('진화', 'Noun'),\n",
      " ('사르다', 'Verb'),\n",
      " ('치킨', 'Noun'),\n",
      " ('으로', 'Josa'),\n",
      " ('정리', 'Noun'),\n",
      " ('하다', 'Verb'),\n",
      " ('버리다', 'Verb'),\n",
      " ('씹좆간쉨', 'Noun'),\n",
      " ('ㅋㅋㅋㅋ', 'KoreanParticle')]\n"
     ]
    }
   ],
   "source": [
    "pprint(okt.pos(u'장대한 생물 진화사를 치킨으로 정리해버리는 씹좆간쉨ㅋㅋㅋㅋ',stem = True))"
   ]
  },
  {
   "cell_type": "code",
   "execution_count": 9,
   "metadata": {},
   "outputs": [
    {
     "name": "stdout",
     "output_type": "stream",
     "text": [
      "[('장대', 'Noun'),\n",
      " ('한', 'Josa'),\n",
      " ('생물', 'Noun'),\n",
      " ('진화', 'Noun'),\n",
      " ('사르다', 'Verb'),\n",
      " ('치킨', 'Noun'),\n",
      " ('으로', 'Josa'),\n",
      " ('정리', 'Noun'),\n",
      " ('하다', 'Verb'),\n",
      " ('버리다', 'Verb'),\n",
      " ('씹좆간쉐', 'Noun'),\n",
      " ('ㅋㅋㅋ', 'KoreanParticle')]\n"
     ]
    }
   ],
   "source": [
    "pprint(okt.pos(u'장대한 생물 진화사를 치킨으로 정리해버리는 씹좆간쉨ㅋㅋㅋㅋ',norm = True, stem = True))"
   ]
  },
  {
   "cell_type": "code",
   "execution_count": 10,
   "metadata": {},
   "outputs": [
    {
     "name": "stdout",
     "output_type": "stream",
     "text": [
      "['장대/Noun',\n",
      " '한/Josa',\n",
      " '생물/Noun',\n",
      " '진화/Noun',\n",
      " '사르다/Verb',\n",
      " '치킨/Noun',\n",
      " '으로/Josa',\n",
      " '정리/Noun',\n",
      " '하다/Verb',\n",
      " '버리다/Verb',\n",
      " '씹좆간쉐/Noun',\n",
      " 'ㅋㅋㅋ/KoreanParticle']\n"
     ]
    }
   ],
   "source": [
    "pprint(okt.pos(u'장대한 생물 진화사를 치킨으로 정리해버리는 씹좆간쉨ㅋㅋㅋㅋ',norm = True, stem = True, join = True))"
   ]
  },
  {
   "cell_type": "code",
   "execution_count": 11,
   "metadata": {},
   "outputs": [
    {
     "name": "stdout",
     "output_type": "stream",
     "text": [
      "[('개', 'Noun'),\n",
      " ('씹', 'Verb'),\n",
      " ('진부한', 'Adjective'),\n",
      " ('닳고', 'Verb'),\n",
      " ('닳은', 'Verb'),\n",
      " ('레', 'Noun'),\n",
      " ('파토', 'Noun'),\n",
      " ('리라', 'Noun'),\n",
      " ('존나', 'Noun'),\n",
      " ('지루한데', 'Adjective'),\n",
      " ('힛갤', 'Noun'),\n",
      " ('이라', 'Josa'),\n",
      " ('참고', 'Noun'),\n",
      " ('봤', 'Verb'),\n",
      " ('더', 'Noun'),\n",
      " ('만', 'Josa'),\n",
      " ('끝', 'Noun'),\n",
      " ('까지', 'Josa'),\n",
      " ('걍', 'Adverb'),\n",
      " ('식상하네', 'Adjective'),\n",
      " ('.', 'Punctuation'),\n",
      " ('모든', 'Modifier'),\n",
      " ('컷', 'Noun'),\n",
      " ('이', 'Josa'),\n",
      " ('다', 'Adverb'),\n",
      " ('어디서', 'Adverb'),\n",
      " ('본거', 'Verb'),\n",
      " ('씹아', 'Verb'),\n",
      " ('류', 'Noun'),\n",
      " ('수준', 'Noun'),\n",
      " ('인데', 'Josa'),\n",
      " ('그냥', 'Noun'),\n",
      " ('김치', 'Noun'),\n",
      " ('문화', 'Noun'),\n",
      " ('수준', 'Noun'),\n",
      " ('이', 'Josa'),\n",
      " ('이', 'Determiner'),\n",
      " ('거', 'Noun'),\n",
      " ('뜨면', 'Verb'),\n",
      " ('우르르', 'Noun'),\n",
      " ('베끼', 'Noun'),\n",
      " ('고', 'Josa'),\n",
      " ('따라하고', 'Verb'),\n",
      " ('똑같은', 'Adjective'),\n",
      " ('거만', 'Noun'),\n",
      " ('찍어내면', 'Verb'),\n",
      " ('개돼지', 'Noun'),\n",
      " ('마냥', 'Noun'),\n",
      " ('좋다고', 'Adjective'),\n",
      " ('쳐', 'Verb'),\n",
      " ('보고', 'Noun'),\n",
      " ('걍', 'Adverb'),\n",
      " ('종특', 'Noun'),\n",
      " ('인', 'Josa'),\n",
      " ('듯', 'Noun')]\n"
     ]
    }
   ],
   "source": [
    "pprint(okt.pos(u'개씹 진부한 닳고닳은 레파토리라 존나 지루한데 힛갤이라 참고봤더만 끝까지 걍 식상하네. 모든컷이 다 어디서 본거 씹아류 수준인데 그냥 김치문화수준이 이거뜨면 우르르 베끼고 따라하고 똑같은거만 찍어내면 개돼지마냥 좋다고 쳐 보고 걍 종특인듯'))"
   ]
  },
  {
   "cell_type": "code",
   "execution_count": 12,
   "metadata": {},
   "outputs": [],
   "source": [
    "from konlpy.tag import Kkma # 좀 느리지만 정확한 분석"
   ]
  },
  {
   "cell_type": "code",
   "execution_count": 13,
   "metadata": {},
   "outputs": [],
   "source": [
    "kkma = Kkma()"
   ]
  },
  {
   "cell_type": "code",
   "execution_count": 14,
   "metadata": {},
   "outputs": [
    {
     "name": "stdout",
     "output_type": "stream",
     "text": [
      "['장대',\n",
      " '하',\n",
      " 'ㄴ',\n",
      " '생물',\n",
      " '진화',\n",
      " '사르',\n",
      " 'ㄹ',\n",
      " '치킨',\n",
      " '으로',\n",
      " '정리',\n",
      " '하',\n",
      " '어',\n",
      " '버리',\n",
      " '는',\n",
      " '씹좆',\n",
      " '간',\n",
      " '쉨',\n",
      " 'ㅋㅋㅋㅋ']\n"
     ]
    }
   ],
   "source": [
    "pprint(kkma.morphs(u'장대한 생물 진화사를 치킨으로 정리해버리는 씹좆간쉨ㅋㅋㅋㅋ'))"
   ]
  },
  {
   "cell_type": "code",
   "execution_count": 15,
   "metadata": {},
   "outputs": [
    {
     "name": "stdout",
     "output_type": "stream",
     "text": [
      "['장대', '생물', '진화', '치킨', '정리', '씹좆', '씹좆간쉨', '간', '쉨']\n"
     ]
    }
   ],
   "source": [
    "pprint(kkma.nouns(u'장대한 생물 진화사를 치킨으로 정리해버리는 씹좆간쉨ㅋㅋㅋㅋ'))"
   ]
  },
  {
   "cell_type": "code",
   "execution_count": 16,
   "metadata": {},
   "outputs": [
    {
     "name": "stdout",
     "output_type": "stream",
     "text": [
      "[('장대', 'Noun'),\n",
      " ('한', 'Josa'),\n",
      " ('생물', 'Noun'),\n",
      " ('진화', 'Noun'),\n",
      " ('사를', 'Verb'),\n",
      " ('치킨', 'Noun'),\n",
      " ('으로', 'Josa'),\n",
      " ('정리', 'Noun'),\n",
      " ('해', 'Verb'),\n",
      " ('버리는', 'Verb'),\n",
      " ('씹좆간쉨', 'Noun'),\n",
      " ('ㅋㅋㅋㅋ', 'KoreanParticle')]\n"
     ]
    }
   ],
   "source": [
    "pprint(okt.pos(u'장대한 생물 진화사를 치킨으로 정리해버리는 씹좆간쉨ㅋㅋㅋㅋ'))"
   ]
  },
  {
   "cell_type": "code",
   "execution_count": 17,
   "metadata": {},
   "outputs": [
    {
     "name": "stdout",
     "output_type": "stream",
     "text": [
      "[('개', 'Noun'),\n",
      " ('씹', 'Verb'),\n",
      " ('진부한', 'Adjective'),\n",
      " ('닳고', 'Verb'),\n",
      " ('닳은', 'Verb'),\n",
      " ('레', 'Noun'),\n",
      " ('파토', 'Noun'),\n",
      " ('리라', 'Noun'),\n",
      " ('존나', 'Noun'),\n",
      " ('지루한데', 'Adjective'),\n",
      " ('힛갤', 'Noun'),\n",
      " ('이라', 'Josa'),\n",
      " ('참고', 'Noun'),\n",
      " ('봤', 'Verb'),\n",
      " ('더', 'Noun'),\n",
      " ('만', 'Josa'),\n",
      " ('끝', 'Noun'),\n",
      " ('까지', 'Josa'),\n",
      " ('걍', 'Adverb'),\n",
      " ('식상하네', 'Adjective'),\n",
      " ('.', 'Punctuation'),\n",
      " ('모든', 'Modifier'),\n",
      " ('컷', 'Noun'),\n",
      " ('이', 'Josa'),\n",
      " ('다', 'Adverb'),\n",
      " ('어디서', 'Adverb'),\n",
      " ('본거', 'Verb'),\n",
      " ('씹아', 'Verb'),\n",
      " ('류', 'Noun'),\n",
      " ('수준', 'Noun'),\n",
      " ('인데', 'Josa'),\n",
      " ('그냥', 'Noun'),\n",
      " ('김치', 'Noun'),\n",
      " ('문화', 'Noun'),\n",
      " ('수준', 'Noun'),\n",
      " ('이', 'Josa'),\n",
      " ('이', 'Determiner'),\n",
      " ('거', 'Noun'),\n",
      " ('뜨면', 'Verb'),\n",
      " ('우르르', 'Noun'),\n",
      " ('베끼', 'Noun'),\n",
      " ('고', 'Josa'),\n",
      " ('따라하고', 'Verb'),\n",
      " ('똑같은', 'Adjective'),\n",
      " ('거만', 'Noun'),\n",
      " ('찍어내면', 'Verb'),\n",
      " ('개돼지', 'Noun'),\n",
      " ('마냥', 'Noun'),\n",
      " ('좋다고', 'Adjective'),\n",
      " ('쳐', 'Verb'),\n",
      " ('보고', 'Noun'),\n",
      " ('걍', 'Adverb'),\n",
      " ('종특', 'Noun'),\n",
      " ('인', 'Josa'),\n",
      " ('듯', 'Noun')]\n"
     ]
    }
   ],
   "source": [
    "pprint(okt.pos(u'개씹 진부한 닳고닳은 레파토리라 존나 지루한데 힛갤이라 참고봤더만 끝까지 걍 식상하네. 모든컷이 다 어디서 본거 씹아류 수준인데 그냥 김치문화수준이 이거뜨면 우르르 베끼고 따라하고 똑같은거만 찍어내면 개돼지마냥 좋다고 쳐 보고 걍 종특인듯'))"
   ]
  },
  {
   "cell_type": "code",
   "execution_count": null,
   "metadata": {},
   "outputs": [],
   "source": []
  }
 ],
 "metadata": {
  "kernelspec": {
   "display_name": "Python 3",
   "language": "python",
   "name": "python3"
  },
  "language_info": {
   "codemirror_mode": {
    "name": "ipython",
    "version": 3
   },
   "file_extension": ".py",
   "mimetype": "text/x-python",
   "name": "python",
   "nbconvert_exporter": "python",
   "pygments_lexer": "ipython3",
   "version": "3.7.3"
  }
 },
 "nbformat": 4,
 "nbformat_minor": 2
}
